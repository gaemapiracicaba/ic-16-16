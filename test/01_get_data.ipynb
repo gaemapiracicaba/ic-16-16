{
 "cells": [
  {
   "cell_type": "markdown",
   "metadata": {},
   "source": [
    "<br>\n",
    "\n",
    "# Introdução"
   ]
  },
  {
   "cell_type": "code",
   "execution_count": null,
   "metadata": {},
   "outputs": [],
   "source": [
    "import os\n",
    "import fiona\n",
    "import geopandas as gpd\n",
    "from pathlib import Path"
   ]
  },
  {
   "cell_type": "code",
   "execution_count": null,
   "metadata": {},
   "outputs": [],
   "source": [
    "from paths import *"
   ]
  },
  {
   "cell_type": "code",
   "execution_count": null,
   "metadata": {},
   "outputs": [],
   "source": [
    "mpsp_path = Path.home() / 'Codes' / 'open_div' / 'sp_mpsp'\n",
    "igc_path = Path.home() / 'Codes' / 'open_geodata' / 'sp_igc'\n",
    "buildings_path = Path.home() / 'Codes' / 'open_geodata' / 'w_building'\n",
    "datageo_path = Path.home() / 'Codes' / 'open_geodata' / 'sp_datageo'"
   ]
  },
  {
   "cell_type": "markdown",
   "metadata": {},
   "source": [
    "<br>\n",
    "\n",
    "## GAEMA"
   ]
  },
  {
   "cell_type": "code",
   "execution_count": null,
   "metadata": {},
   "outputs": [],
   "source": [
    "# Read Geodataframe\n",
    "gdf = gpd.read_file(\n",
    "    mpsp_path / 'data' / 'output' / 'geo' / 'sp_mpsp_gaema.gpkg'\n",
    ")\n",
    "\n",
    "# Filter\n",
    "gdf = gdf[gdf['gaema_nome'] == 'Núcleo PCJ-Piracicaba']\n",
    "\n",
    "# Results\n",
    "gdf.to_file(\n",
    "    os.path.join(output_path_gpkg, 'municipios_gaema.gpkg'),\n",
    "    driver='GPKG'\n",
    ")\n",
    "gdf.explore()"
   ]
  },
  {
   "cell_type": "code",
   "execution_count": null,
   "metadata": {},
   "outputs": [],
   "source": [
    "# Buffers Clip\n",
    "gdf_mask = gdf.copy()\n",
    "gdf_mask['geometry'] = gdf_mask['geometry'].to_crs(epsg=3857).buffer(2000).to_crs(epsg=4326)\n",
    "gdf_mask = gdf_mask.dissolve(by='gaema_nome')\n",
    "gdf_mask = gdf_mask['geometry']\n",
    "\n",
    "# Results\n",
    "gdf_mask.to_file(\n",
    "    os.path.join(output_path_gpkg, 'mascara.gpkg'),\n",
    "    driver='GPKG'\n",
    ")"
   ]
  },
  {
   "cell_type": "markdown",
   "metadata": {},
   "source": [
    "<br>\n",
    "\n",
    "# IGC Leste"
   ]
  },
  {
   "cell_type": "markdown",
   "metadata": {},
   "source": [
    "<br>\n",
    "\n",
    "## Hidro: Clip"
   ]
  },
  {
   "cell_type": "code",
   "execution_count": null,
   "metadata": {},
   "outputs": [],
   "source": [
    "# Read Geodataframe\n",
    "gdf_igc_hidro = gpd.read_file(\n",
    "    igc_path / 'data' / 'output' / 'gpkg' / 'igc 25k - leste paulista - hidrografia - drenagem - linhas.gpkg'\n",
    ")\n",
    "\n",
    "# Clip\n",
    "gdf_igc_hidro_clip = gpd.clip(gdf_igc_hidro, gdf_mask)\n",
    "\n",
    "# Results\n",
    "gdf_igc_hidro_clip.to_file(\n",
    "    os.path.join(output_path_gpkg, 'igc_hidro_leste.gpkg'),\n",
    "    layer='igc_hidro_leste',\n",
    "    driver='GPKG'\n",
    ")"
   ]
  },
  {
   "cell_type": "markdown",
   "metadata": {},
   "source": [
    "<br>\n",
    "\n",
    "## Hidro: Buffer 250"
   ]
  },
  {
   "cell_type": "code",
   "execution_count": null,
   "metadata": {},
   "outputs": [],
   "source": [
    "# Buffer\n",
    "gdf_igc_hidro_buffer = gdf_igc_hidro_clip.copy()\n",
    "gdf_igc_hidro_buffer['geometry'] = gdf_igc_hidro_buffer['geometry'].to_crs(epsg=3857).buffer(250).to_crs(epsg=4326)\n",
    "\n",
    "# Dissolve\n",
    "gdf_igc_hidro_buffer['ID_Text'] = 1\n",
    "gdf_igc_hidro_buffer = gdf_igc_hidro_buffer.dissolve(by='ID_Text')\n",
    "\n",
    "# Results\n",
    "gdf_igc_hidro_buffer.to_file(\n",
    "    os.path.join(output_path_gpkg, 'igc_hidro_leste_buffer.gpkg'),\n",
    "    layer='igc_hidro_leste_buffer',\n",
    "    driver='GPKG'\n",
    ")"
   ]
  },
  {
   "cell_type": "markdown",
   "metadata": {},
   "source": [
    "<br>\n",
    "\n",
    "## Massa: Clip"
   ]
  },
  {
   "cell_type": "code",
   "execution_count": null,
   "metadata": {},
   "outputs": [],
   "source": [
    "# Read Geodataframe\n",
    "gdf_igc_massa = gpd.read_file(\n",
    "    igc_path / 'data' / 'output' / 'gpkg' / \"igc 25k - leste paulista - hidrografia - massa d'água - poligonos.gpkg\"\n",
    ")\n",
    "\n",
    "# Clip\n",
    "gdf_igc_massa_clip = gpd.clip(gdf_igc_massa, gdf_mask)\n",
    "\n",
    "# Results\n",
    "with fiona.Env():\n",
    "    gdf_igc_massa_clip.to_file(\n",
    "        os.path.join(output_path_gpkg, 'igc_massa_leste.gpkg'),\n",
    "        layer='igc_hidro_leste',\n",
    "        driver='GPKG'\n",
    "    )"
   ]
  },
  {
   "cell_type": "markdown",
   "metadata": {},
   "source": [
    "<br>\n",
    "\n",
    "## Massa: Buffer 250"
   ]
  },
  {
   "cell_type": "code",
   "execution_count": null,
   "metadata": {},
   "outputs": [],
   "source": [
    "# Buffer\n",
    "gdf_igc_massa_buffer = gdf_igc_massa_clip.copy()\n",
    "gdf_igc_massa_buffer['geometry'] = gdf_igc_massa_buffer['geometry'].to_crs(epsg=3857).buffer(250).to_crs(epsg=4326)\n",
    "\n",
    "# Dissolve\n",
    "gdf_igc_massa_buffer['ID_Text'] = 1\n",
    "gdf_igc_massa_buffer = gdf_igc_massa_buffer.dissolve(by='ID_Text')\n",
    "\n",
    "# Results\n",
    "gdf_igc_massa_buffer.to_file(\n",
    "    os.path.join(output_path_gpkg, 'igc_massa_leste_buffer.gpkg'),\n",
    "    layer='igc_massa_leste_buffer',\n",
    "    driver='GPKG'\n",
    ")"
   ]
  },
  {
   "cell_type": "markdown",
   "metadata": {},
   "source": [
    "<br>\n",
    "\n",
    "# IGC Centro"
   ]
  },
  {
   "cell_type": "markdown",
   "metadata": {},
   "source": [
    "<br>\n",
    "\n",
    "## Hidro: Clip"
   ]
  },
  {
   "cell_type": "code",
   "execution_count": null,
   "metadata": {},
   "outputs": [],
   "source": [
    "# Read Geodataframe\n",
    "gdf_igc_hidro = gpd.read_file(\n",
    "    igc_path / 'data' / 'output' / 'gpkg' / 'igc 25k - centro sul paulista - hidrografia - drenagem - linhas.gpkg'\n",
    ")\n",
    "\n",
    "# Clip\n",
    "gdf_igc_hidro_clip = gpd.clip(gdf_igc_hidro, gdf_mask)\n",
    "\n",
    "# Results\n",
    "gdf_igc_hidro_clip.to_file(\n",
    "    os.path.join(output_path_gpkg, 'igc_hidro_centro.gpkg'),\n",
    "    layer='igc_hidro_centro',\n",
    "    driver='GPKG'\n",
    ")"
   ]
  },
  {
   "cell_type": "markdown",
   "metadata": {},
   "source": [
    "<br>\n",
    "\n",
    "## Hidro: Buffer 250"
   ]
  },
  {
   "cell_type": "code",
   "execution_count": null,
   "metadata": {},
   "outputs": [],
   "source": [
    "# Buffer\n",
    "gdf_igc_hidro_buffer = gdf_igc_hidro_clip.copy()\n",
    "gdf_igc_hidro_buffer['geometry'] = gdf_igc_hidro_buffer['geometry'].to_crs(epsg=3857).buffer(250).to_crs(epsg=4326)\n",
    "\n",
    "# Dissolve\n",
    "gdf_igc_hidro_buffer['ID_Text'] = 1\n",
    "gdf_igc_hidro_buffer = gdf_igc_hidro_buffer.dissolve(by='ID_Text')\n",
    "\n",
    "# Results\n",
    "gdf_igc_hidro_buffer.to_file(\n",
    "    os.path.join(output_path_gpkg, 'igc_hidro_centro_buffer.gpkg'),\n",
    "    layer='igc_hidro_centro_buffer',\n",
    "    driver='GPKG'\n",
    ")"
   ]
  },
  {
   "cell_type": "markdown",
   "metadata": {},
   "source": [
    "<br>\n",
    "\n",
    "## Massa: Clip"
   ]
  },
  {
   "cell_type": "code",
   "execution_count": null,
   "metadata": {},
   "outputs": [],
   "source": [
    "# Read Geodataframe\n",
    "gdf_igc_massa = gpd.read_file(\n",
    "    igc_path / 'data' / 'output' / 'gpkg' / \"igc 25k - centro sul paulista - hidrografia - massa d' água - polígono - poligonos.gpkg\"\n",
    ")\n",
    "\n",
    "# Clip\n",
    "gdf_igc_massa_clip = gpd.clip(gdf_igc_massa, gdf_mask)\n",
    "\n",
    "# Results\n",
    "with fiona.Env():\n",
    "    gdf_igc_massa_clip.to_file(\n",
    "        os.path.join(output_path_gpkg, 'igc_massa_centro.gpkg'),\n",
    "        layer='igc_massa_centro',\n",
    "        driver='GPKG'\n",
    "    )"
   ]
  },
  {
   "cell_type": "markdown",
   "metadata": {},
   "source": [
    "<br>\n",
    "\n",
    "## Massa: Buffer 250"
   ]
  },
  {
   "cell_type": "code",
   "execution_count": null,
   "metadata": {},
   "outputs": [],
   "source": [
    "# Buffer\n",
    "gdf_igc_massa_buffer = gdf_igc_massa_clip.copy()\n",
    "gdf_igc_massa_buffer['geometry'] = gdf_igc_massa_buffer['geometry'].to_crs(epsg=3857).buffer(250).to_crs(epsg=4326)\n",
    "\n",
    "# Dissolve\n",
    "gdf_igc_massa_buffer['ID_Text'] = 1\n",
    "gdf_igc_massa_buffer = gdf_igc_massa_buffer.dissolve(by='ID_Text')\n",
    "\n",
    "# Results\n",
    "gdf_igc_massa_buffer.to_file(\n",
    "    os.path.join(output_path_gpkg, 'igc_massa_centro_buffer.gpkg'),\n",
    "    layer='igc_massa_centro_buffer',\n",
    "    driver='GPKG'\n",
    ")"
   ]
  },
  {
   "cell_type": "markdown",
   "metadata": {},
   "source": [
    "<br>\n",
    "\n",
    "# DataGeo"
   ]
  },
  {
   "cell_type": "markdown",
   "metadata": {},
   "source": [
    "<br>\n",
    "\n",
    "## Áreas Urbanas"
   ]
  },
  {
   "cell_type": "code",
   "execution_count": null,
   "metadata": {},
   "outputs": [],
   "source": [
    "# Read Geodataframe\n",
    "gdf_au = gpd.read_file(\n",
    "    datageo_path / 'data' / 'output' / 'datageo' / 'sp_datageo_area_urbana.gpkg'\n",
    ")\n",
    "\n",
    "# Clip\n",
    "gdf_au_clip = gpd.clip(gdf_au, gdf_mask)\n",
    "\n",
    "# Results\n",
    "gdf_au_clip.to_file(\n",
    "    os.path.join(output_path_gpkg, 'sp_datageo_area_urbana.gpkg'),\n",
    "    layer='sp_datageo_area_urbana',\n",
    "    driver='GPKG'\n",
    ")"
   ]
  },
  {
   "cell_type": "code",
   "execution_count": null,
   "metadata": {},
   "outputs": [],
   "source": [
    "gdf_au_clip.explore()"
   ]
  },
  {
   "cell_type": "code",
   "execution_count": null,
   "metadata": {},
   "outputs": [],
   "source": [
    "# Buffer\n",
    "gdf_au_buffer = gdf_au_clip.copy()\n",
    "gdf_au_buffer['geometry'] = gdf_au_buffer['geometry'].to_crs(epsg=3857).buffer(500).to_crs(epsg=4326)\n",
    "\n",
    "# Dissolve\n",
    "gdf_au_buffer['ID_Text'] = 1\n",
    "gdf_au_buffer = gdf_au_buffer.dissolve(by='ID_Text')\n",
    "\n",
    "# Results\n",
    "gdf_au_buffer.to_file(\n",
    "    os.path.join(output_path_gpkg, 'sp_datageo_area_urbana_buffer.gpkg'),\n",
    "    layer='sp_datageo_area_urbana_buffer',\n",
    "    driver='GPKG'\n",
    ")"
   ]
  },
  {
   "cell_type": "markdown",
   "metadata": {},
   "source": [
    "<br>\n",
    "\n",
    "# Buildings"
   ]
  },
  {
   "cell_type": "markdown",
   "metadata": {},
   "source": [
    "<br>\n",
    "\n",
    "## Copy"
   ]
  },
  {
   "cell_type": "code",
   "execution_count": null,
   "metadata": {},
   "outputs": [],
   "source": [
    "# Read Geodataframe\n",
    "gdf_buildings = gpd.read_file(\n",
    "    buildings_path / 'data' / 'output' / 'geo' / 'gaema.gpkg'\n",
    ")\n",
    "\n",
    "# Results\n",
    "gdf_buildings.to_file(\n",
    "    os.path.join(output_path_gpkg, 'buildings.gpkg'),\n",
    "    layer='buildings',\n",
    "    driver='GPKG'\n",
    ")"
   ]
  },
  {
   "cell_type": "markdown",
   "metadata": {},
   "source": [
    "<br>\n",
    "\n",
    "## Buffer"
   ]
  },
  {
   "cell_type": "code",
   "execution_count": null,
   "metadata": {},
   "outputs": [],
   "source": [
    "# Buffer\n",
    "gdf_buildings_buffer = gdf_buildings.copy()\n",
    "gdf_buildings_buffer['geometry'] = gdf_buildings_buffer['geometry'].to_crs(epsg=3857).buffer(250).to_crs(epsg=4326)\n",
    "\n",
    "# Dissolve\n",
    "gdf_buildings_buffer['ID_Text'] = 1\n",
    "gdf_buildings_buffer = gdf_buildings_buffer.dissolve(by='ID_Text')\n",
    "\n",
    "# Results\n",
    "gdf_buildings_buffer.to_file(\n",
    "    os.path.join(output_path_gpkg, 'buildings_buffer.gpkg'),\n",
    "    layer='buildings_buffer',\n",
    "    driver='GPKG'\n",
    ")"
   ]
  },
  {
   "cell_type": "markdown",
   "metadata": {},
   "source": [
    "<br>\n",
    "\n",
    "# Merge"
   ]
  },
  {
   "cell_type": "code",
   "execution_count": null,
   "metadata": {},
   "outputs": [],
   "source": [
    "gdf_hidro_leste = gpd.read_file(os.path.join(output_path_gpkg, 'igc_hidro_leste_buffer.gpkg'))\n",
    "gdf_massa_leste = gpd.read_file(os.path.join(output_path_gpkg, 'igc_massa_leste_buffer.gpkg'))\n",
    "gdf_hidro_centro = gpd.read_file(os.path.join(output_path_gpkg, 'igc_hidro_centro_buffer.gpkg'))\n",
    "gdf_massa_centro = gpd.read_file(os.path.join(output_path_gpkg, 'igc_massa_centro_buffer.gpkg'))\n",
    "gdf_areasurb = gpd.read_file(os.path.join(output_path_gpkg, 'sp_datageo_area_urbana_buffer.gpkg'))\n",
    "gdf_building = gpd.read_file(os.path.join(output_path_gpkg, 'buildings_buffer.gpkg'))"
   ]
  },
  {
   "cell_type": "code",
   "execution_count": null,
   "metadata": {},
   "outputs": [],
   "source": [
    "list_shps = [\n",
    "    gdf_hidro_leste, gdf_massa_leste,\n",
    "    gdf_hidro_centro, gdf_massa_centro,\n",
    "    gdf_areasurb, gdf_building\n",
    "]"
   ]
  },
  {
   "cell_type": "code",
   "execution_count": null,
   "metadata": {},
   "outputs": [],
   "source": [
    "gdf_merge = gpd.GeoDataFrame()\n",
    "for shp in list_shps:\n",
    "    shp.reset_index(inplace=True, drop=True)\n",
    "\n",
    "    # \n",
    "    list_cols = shp.columns.to_list()\n",
    "    list_cols.remove('geometry')\n",
    "    #print(list_cols)\n",
    "\n",
    "    shp.drop(list_cols, axis=1, inplace=True)\n",
    "\n",
    "    #display(shp.head())\n",
    "    gdf_merge = gdf_merge.append(shp)"
   ]
  },
  {
   "cell_type": "code",
   "execution_count": null,
   "metadata": {},
   "outputs": [],
   "source": [
    "# Dissolve\n",
    "gdf_merge['ID_Text'] = 1\n",
    "gdf_merge = gdf_merge.dissolve(by='ID_Text')"
   ]
  },
  {
   "cell_type": "code",
   "execution_count": null,
   "metadata": {},
   "outputs": [],
   "source": [
    "gdf_merge = gdf_merge.explode().set_crs(4326)\n",
    "gdf_merge.reset_index(inplace=True, drop=True)"
   ]
  },
  {
   "cell_type": "code",
   "execution_count": null,
   "metadata": {},
   "outputs": [],
   "source": [
    "# Results\n",
    "gdf_merge.to_file(\n",
    "    os.path.join(output_path_gpkg, 'restricao_merged.gpkg'),\n",
    "    layer='restricao_merged',\n",
    "    driver='GPKG'\n",
    ")"
   ]
  },
  {
   "cell_type": "code",
   "execution_count": null,
   "metadata": {},
   "outputs": [],
   "source": []
  }
 ],
 "metadata": {
  "interpreter": {
   "hash": "2bdda54bf0f28693adab761d90c570fb0a7faa3609b365313c0b5d078440c060"
  },
  "kernelspec": {
   "display_name": "Python 3 (ipykernel)",
   "language": "python",
   "name": "python3"
  },
  "language_info": {
   "codemirror_mode": {
    "name": "ipython",
    "version": 3
   },
   "file_extension": ".py",
   "mimetype": "text/x-python",
   "name": "python",
   "nbconvert_exporter": "python",
   "pygments_lexer": "ipython3",
   "version": "3.9.12"
  }
 },
 "nbformat": 4,
 "nbformat_minor": 4
}
