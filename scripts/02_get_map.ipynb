{
 "cells": [
  {
   "cell_type": "markdown",
   "metadata": {
    "pycharm": {
     "name": "#%% md\n"
    }
   },
   "source": [
    "<br>\n",
    "\n",
    "# Maps\n"
   ]
  },
  {
   "cell_type": "code",
   "execution_count": null,
   "metadata": {
    "jupyter": {
     "outputs_hidden": false
    },
    "pycharm": {
     "name": "#%%\n"
    }
   },
   "outputs": [],
   "source": [
    "#!pip3 install open-geodata --upgrade\n"
   ]
  },
  {
   "cell_type": "code",
   "execution_count": null,
   "metadata": {
    "pycharm": {
     "name": "#%%\n"
    }
   },
   "outputs": [],
   "source": [
    "import os\n",
    "import json\n",
    "import fiona\n",
    "import folium\n",
    "import pandas as pd\n",
    "import branca as bc\n",
    "import seaborn as sns\n",
    "import geopandas as gpd\n",
    "from datetime import date\n",
    "from folium import plugins\n"
   ]
  },
  {
   "cell_type": "code",
   "execution_count": null,
   "metadata": {
    "pycharm": {
     "name": "#%%\n"
    }
   },
   "outputs": [],
   "source": [
    "from open_geodata import geo, lyr\n"
   ]
  },
  {
   "cell_type": "code",
   "execution_count": null,
   "metadata": {
    "jupyter": {
     "outputs_hidden": false
    },
    "pycharm": {
     "name": "#%%\n"
    }
   },
   "outputs": [],
   "source": [
    "from paths import *\n"
   ]
  },
  {
   "cell_type": "markdown",
   "metadata": {
    "pycharm": {
     "name": "#%% md\n"
    }
   },
   "source": [
    "<br>\n",
    "\n",
    "# Layers\n"
   ]
  },
  {
   "cell_type": "markdown",
   "metadata": {
    "pycharm": {
     "name": "#%% md\n"
    }
   },
   "source": [
    "<br>\n",
    "\n",
    "## Municípios\n"
   ]
  },
  {
   "cell_type": "code",
   "execution_count": null,
   "metadata": {
    "pycharm": {
     "name": "#%%\n"
    }
   },
   "outputs": [],
   "source": [
    "def limite_mun():\n",
    "    # Input\n",
    "    gdf = gpd.read_file(os.path.join(\n",
    "        output_path_gpkg, 'municipios_gaema.gpkg'))\n",
    "    #url = 'https://rawcdn.githack.com/gaemapiracicaba/ic-16-16/a1003f0a37056a280ed64d4c299e3a70e697f299/data/output/gjson/municipios_gaema.geojson'\n",
    "    #gdf = gpd.read_file(url)\n",
    "    gdf = gdf.to_crs(epsg=4326)\n",
    "\n",
    "    # Layer\n",
    "    return folium.features.GeoJson(\n",
    "        gdf,\n",
    "        name='Municípios',\n",
    "        style_function=lambda x: {\n",
    "            'fillColor': '#FFD700',\n",
    "            'color': '#FFD700',\n",
    "            'weight': 1,\n",
    "            'fillOpacity': 0.0\n",
    "        },\n",
    "        tooltip=folium.features.GeoJsonTooltip(\n",
    "            fields=['municipio_nome', ],\n",
    "            aliases=['Município', ],\n",
    "            labels=True,\n",
    "            sticky=True,\n",
    "            opacity=0.9,\n",
    "            direction='auto',\n",
    "        ),\n",
    "        highlight_function=lambda x: {\n",
    "            'weight': 3\n",
    "        },\n",
    "        embed=False,\n",
    "        zoom_on_click=False,\n",
    "        control=True,\n",
    "        show=True,\n",
    "    )\n"
   ]
  },
  {
   "cell_type": "code",
   "execution_count": null,
   "metadata": {},
   "outputs": [],
   "source": [
    "def style_function(feature):\n",
    "    default_style = {\n",
    "        # 'opacity': 0.0,\n",
    "        'fillColor': '#bfaf00',\n",
    "        'fillOpacity': 0.5,\n",
    "        'color': 'black',\n",
    "        'weight': 1\n",
    "    }\n",
    "\n",
    "    if feature['properties']['Restrito'] == 'Sim':\n",
    "        default_style['fillColor'] = '#f43b13'\n",
    "\n",
    "    if feature['properties']['Restrito'] == 'Não':\n",
    "        default_style['fillColor'] = '#15bd3b'\n",
    "\n",
    "    return default_style\n",
    "\n",
    "\n",
    "def restricoes():\n",
    "    # Input\n",
    "    url = 'https://github.com/gaemapiracicaba/ic-16-16/blob/main/data/output/gjson/restricao_merged.geojson'\n",
    "    url = 'https://rawcdn.githack.com/gaemapiracicaba/ic-16-16/a1003f0a37056a280ed64d4c299e3a70e697f299/data/output/gjson/restricao_merged.geojson'\n",
    "    gdf = gpd.read_file(url)\n",
    "    gdf = gpd.read_file(output_path_gpkg / 'restricao_merged_mun.gpkg')\n",
    "    gdf = gdf.to_crs(epsg=4326)\n",
    "\n",
    "    # Layer\n",
    "    return folium.features.GeoJson(\n",
    "        gdf,\n",
    "        name='Restrições',\n",
    "        style_function=style_function,\n",
    "        embed=False,\n",
    "        zoom_on_click=False,\n",
    "        control=True,\n",
    "        show=True,\n",
    "    )\n"
   ]
  },
  {
   "cell_type": "markdown",
   "metadata": {},
   "source": [
    "<br>\n",
    "\n",
    "# Maps\n"
   ]
  },
  {
   "cell_type": "code",
   "execution_count": null,
   "metadata": {},
   "outputs": [],
   "source": [
    "def get_map(input_shp):\n",
    "    # Input\n",
    "    gdf = gpd.read_file(input_shp)\n",
    "    gdf = gdf.to_crs(epsg=4326)\n",
    "    sw = gdf.bounds[['miny', 'minx']].min().values.tolist()\n",
    "    ne = gdf.bounds[['maxy', 'maxx']].max().values.tolist()\n",
    "    bounds = [sw, ne]\n",
    "\n",
    "    # Zoom\n",
    "    min_zoom = 10\n",
    "    max_zoom = 18\n",
    "\n",
    "    # Create Map\n",
    "    m = folium.Map(\n",
    "        # location=list_centroid,\n",
    "        # zoom_start=10,\n",
    "        min_zoom=min_zoom,\n",
    "        max_zoom=max_zoom,\n",
    "        max_bounds=True,\n",
    "        # zoom_delta=0.1,\n",
    "        min_lat=bounds[0][0]*(101/100),\n",
    "        min_lon=bounds[0][1]*(101/100),\n",
    "        max_lat=bounds[1][0]*(99/100),\n",
    "        max_lon=bounds[1][1]*(99/100),\n",
    "        tiles=None,\n",
    "    )\n",
    "\n",
    "    # Add Base Layers\n",
    "    m.add_child(lyr.base.google_satellite(min_zoom, max_zoom))\n",
    "    m.add_child(lyr.base.google_hybrid(min_zoom, max_zoom))\n",
    "    m.add_child(lyr.base.google_terrain(min_zoom, max_zoom))\n",
    "    m.add_child(lyr.base.google_streets(min_zoom, max_zoom))\n",
    "\n",
    "    m.add_child(restricoes())\n",
    "    m.add_child(limite_mun())\n",
    "\n",
    "    # Plugins\n",
    "    m.fit_bounds(bounds)\n",
    "    plugins.Fullscreen(\n",
    "        position='topleft',\n",
    "        title='Clique para Maximizar',\n",
    "        title_cancel='Mininizar',\n",
    "    ).add_to(m)\n",
    "    folium.LayerControl(\n",
    "        position='topright',\n",
    "        collapsed=False\n",
    "    ).add_to(m)\n",
    "    return m\n"
   ]
  },
  {
   "cell_type": "code",
   "execution_count": null,
   "metadata": {},
   "outputs": [],
   "source": [
    "# ddd\n",
    "m = get_map(output_path_gpkg / 'municipios_gaema.gpkg')\n",
    "\n",
    "# Save/Open Map\n",
    "map_file = output_path_maps / 'map_ic-16-16.html'\n",
    "m.save(map_file)\n",
    "m\n"
   ]
  },
  {
   "cell_type": "code",
   "execution_count": null,
   "metadata": {},
   "outputs": [],
   "source": []
  },
  {
   "cell_type": "code",
   "execution_count": null,
   "metadata": {},
   "outputs": [],
   "source": []
  },
  {
   "cell_type": "code",
   "execution_count": null,
   "metadata": {},
   "outputs": [],
   "source": []
  }
 ],
 "metadata": {
  "kernelspec": {
   "display_name": "Python 3.9.13 ('pablocarreira-py39')",
   "language": "python",
   "name": "python3"
  },
  "language_info": {
   "codemirror_mode": {
    "name": "ipython",
    "version": 3
   },
   "file_extension": ".py",
   "mimetype": "text/x-python",
   "name": "python",
   "nbconvert_exporter": "python",
   "pygments_lexer": "ipython3",
   "version": "3.9.13"
  },
  "toc-autonumbering": true,
  "vscode": {
   "interpreter": {
    "hash": "397a8db9a99587ebc9659e575e97c3dbc03b7cdbd9bc181d706cc19eab1087ed"
   }
  }
 },
 "nbformat": 4,
 "nbformat_minor": 4
}
